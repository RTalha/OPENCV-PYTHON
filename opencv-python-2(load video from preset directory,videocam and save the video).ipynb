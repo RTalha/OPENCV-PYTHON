{
 "cells": [
  {
   "cell_type": "markdown",
   "metadata": {},
   "source": [
    "# video capture from your webcam"
   ]
  },
  {
   "cell_type": "code",
   "execution_count": 1,
   "metadata": {},
   "outputs": [],
   "source": [
    "import cv2"
   ]
  },
  {
   "cell_type": "code",
   "execution_count": null,
   "metadata": {},
   "outputs": [],
   "source": [
    "videocapture=cv2.VideoCapture(0)\n",
    "while True:\n",
    "    ret,frame=videocapture.read()\n",
    "    \n",
    "    image=cv2.cvtColor(frame,cv2.COLOR_BGR2GRAY)  #to convert all frames into gray images then show them\n",
    "    cv2.imshow(\"gray video from webcam\",image)    #as video of gray frames\n",
    "    \n",
    "    cv2.imshow(\"video capture from webcam\",frame)\n",
    "    \n",
    "    key=cv2.waitKey(1)\n",
    "    \n",
    "    if key==27:\n",
    "        break\n",
    "videocapture.release()\n",
    "cv2.destroyAllWindows()"
   ]
  },
  {
   "cell_type": "markdown",
   "metadata": {},
   "source": [
    "# video capature from directory of your system"
   ]
  },
  {
   "cell_type": "code",
   "execution_count": null,
   "metadata": {},
   "outputs": [],
   "source": [
    "VideoFromDirectory=cv2.VideoCapture(\"/home/rana/Downloads/red_panda_snow.mp4\")\n",
    "\n",
    "while True:\n",
    "    \n",
    "    ret , frame =VideoFromDirectory.read()\n",
    "    \n",
    "    cv2.imshow(\"video from present directory\",frame)\n",
    "    \n",
    "    cv2.waitKey(50)   #it will wait for one mili seconds you can check by changing the paramete value\n",
    "    \n",
    "    \n",
    "VideoFromDirectory.release()\n",
    "cv2.destroyAllWindows()"
   ]
  },
  {
   "cell_type": "markdown",
   "metadata": {},
   "source": [
    "# flip the capture video either from webcam or directory whetever it is method will be same"
   ]
  },
  {
   "cell_type": "code",
   "execution_count": null,
   "metadata": {},
   "outputs": [],
   "source": [
    "import cv2\n",
    "VideoFromDirectory=cv2.VideoCapture(\"/home/rana/Downloads/red_panda_snow.mp4\")\n",
    "\n",
    "while True:\n",
    "    \n",
    "    ret , frame =VideoFromDirectory.read()\n",
    "    \n",
    "    frame=cv2.flip(frame,0) #you can chnge your flip by change 0 to 1,2,3 because we have have 4 types of flips \n",
    "    \n",
    "    cv2.imshow(\"video from present directory\",frame)\n",
    "    \n",
    "    cv2.waitKey(50)   #it will wait for one mili seconds you can check by changing the paramete value\n",
    "    \n",
    "    \n",
    "VideoFromDirectory.release()\n",
    "cv2.destroyAllWindows()"
   ]
  },
  {
   "cell_type": "markdown",
   "metadata": {},
   "source": [
    "# save video which you captured either from webcam or from your directory"
   ]
  },
  {
   "cell_type": "code",
   "execution_count": null,
   "metadata": {},
   "outputs": [],
   "source": [
    "import cv2\n",
    "vcap=cv2.VideoCapture(\"/home/rana/Downloads/red_panda_snow.mp4\")\n",
    "\n",
    "fourcc=cv2.VideoWriter_fourcc(*\"XVID\")\n",
    "out=cv2.VideoWriter(\"flipd_panda.avi\",fourcc,25,(640,360))\n",
    "\n",
    "while True:\n",
    "    \n",
    "    ret , frame =vcap.read()\n",
    "    \n",
    "    frame=cv2.flip(frame,2) #you can chnge your flip by change 0 to 1,2,3 because we have have 4 types of flips \n",
    "    \n",
    "    cv2.imshow(\"video from present directory\",frame)\n",
    "    \n",
    "    out.write(frame)\n",
    "    \n",
    "    cv2.waitKey(1)   #it will wait for one mili seconds you can check by changing the paramete value\n",
    "    \n",
    "out.release()    \n",
    "vcap.release()\n",
    "cv2.destroyAllWindows()"
   ]
  },
  {
   "cell_type": "code",
   "execution_count": null,
   "metadata": {},
   "outputs": [],
   "source": []
  }
 ],
 "metadata": {
  "kernelspec": {
   "display_name": "Python 3",
   "language": "python",
   "name": "python3"
  },
  "language_info": {
   "codemirror_mode": {
    "name": "ipython",
    "version": 3
   },
   "file_extension": ".py",
   "mimetype": "text/x-python",
   "name": "python",
   "nbconvert_exporter": "python",
   "pygments_lexer": "ipython3",
   "version": "3.6.8"
  }
 },
 "nbformat": 4,
 "nbformat_minor": 2
}
