{
 "cells": [
  {
   "cell_type": "code",
   "execution_count": 2,
   "metadata": {},
   "outputs": [],
   "source": [
    "import cv2\n",
    "import numpy as np"
   ]
  },
  {
   "cell_type": "code",
   "execution_count": null,
   "metadata": {},
   "outputs": [],
   "source": [
    "def nothing(x):\n",
    "    pass\n",
    "vcap=cv2.VideoCapture(0)\n",
    "cv2.namedWindow(\"frame\")\n",
    "cv2.createTrackbar(\"H-H\",\"frame\",0,179,nothing)\n",
    "cv2.createTrackbar(\"H-S\",\"frame\",0,255,nothing)\n",
    "cv2.createTrackbar(\"H-V\",\"frame\",0,255,nothing)\n",
    "\n",
    "while True:\n",
    "    _,frame = vcap.read()\n",
    "    hsv=cv2.cvtColor(frame,cv2.COLOR_BGR2HSV)\n",
    "    lower_blue=np.array([cv2.getTrackbarPos(\"H-H\",\"frame\"),cv2.getTrackbarPos(\"H-S\",\"frame\"),cv2.getTrackbarPos(\"H-V\",\"frame\")])\n",
    "    upper_blue=np.array([180,255,255])\n",
    "    mask=cv2.inRange(frame,lower_blue,upper_blue)\n",
    "    detection_of_color=cv2.bitwise_and(frame,frame,mask=mask)\n",
    "    cv2.imshow(\"image by image\",frame)\n",
    "    cv2.imshow(\"mask\",mask)\n",
    "    cv2.imshow(\"detection\",detection_of_color)\n",
    "    key=cv2.waitKey(1)\n",
    "    if key==27:\n",
    "        break\n",
    "vcap.release()\n",
    "cv2.destroyAllWindows()"
   ]
  },
  {
   "cell_type": "code",
   "execution_count": null,
   "metadata": {},
   "outputs": [],
   "source": []
  }
 ],
 "metadata": {
  "kernelspec": {
   "display_name": "Python 3",
   "language": "python",
   "name": "python3"
  },
  "language_info": {
   "codemirror_mode": {
    "name": "ipython",
    "version": 3
   },
   "file_extension": ".py",
   "mimetype": "text/x-python",
   "name": "python",
   "nbconvert_exporter": "python",
   "pygments_lexer": "ipython3",
   "version": "3.6.8"
  }
 },
 "nbformat": 4,
 "nbformat_minor": 2
}
