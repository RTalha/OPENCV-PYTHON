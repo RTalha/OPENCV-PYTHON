{
 "cells": [
  {
   "cell_type": "code",
   "execution_count": 26,
   "metadata": {},
   "outputs": [],
   "source": [
    "import cv2\n",
    "import numpy as np\n",
    "import matplotlib.pyplot as plt"
   ]
  },
  {
   "cell_type": "code",
   "execution_count": 27,
   "metadata": {},
   "outputs": [],
   "source": [
    "img=cv2.imread(\"panda.jpg\")"
   ]
  },
  {
   "cell_type": "code",
   "execution_count": 5,
   "metadata": {},
   "outputs": [],
   "source": [
    "cv2.imshow(\"panda\",img)\n",
    "cv2.waitKey(15000)\n",
    "cv2.destroyAllWindows()"
   ]
  },
  {
   "cell_type": "code",
   "execution_count": 6,
   "metadata": {},
   "outputs": [
    {
     "name": "stdout",
     "output_type": "stream",
     "text": [
      "(300, 500, 3)\n"
     ]
    }
   ],
   "source": [
    "print(img.shape)"
   ]
  },
  {
   "cell_type": "markdown",
   "metadata": {},
   "source": [
    "# how to scale image "
   ]
  },
  {
   "cell_type": "code",
   "execution_count": 7,
   "metadata": {},
   "outputs": [],
   "source": [
    "scale_img=cv2.resize(img,(500,500))"
   ]
  },
  {
   "cell_type": "code",
   "execution_count": 8,
   "metadata": {},
   "outputs": [],
   "source": [
    "cv2.imshow(\"scale_panda\",scale_img)\n",
    "cv2.waitKey(15000)\n",
    "cv2.destroyAllWindows()S"
   ]
  },
  {
   "cell_type": "code",
   "execution_count": 11,
   "metadata": {},
   "outputs": [],
   "source": [
    "#if we do not know what size we want there is another way of resizing the image\n",
    "scale_img_default_fx1_fy1=cv2.resize(img,None,fx=1/2,fy=1/2) #WITH FX1,FX2 IMAGE WILL BE SAME AS ORIGNINAL SIZE BUT \n",
    "                                                         #IF YOU WANT TO HALF THE IMGE THEN YOU NEED TO DIDVIDE\n",
    "                                                         #1 WITH 2 FOR BOTH FX AND FY\n",
    "cv2.imshow(\"scale_panda\",scale_img_default_fx1_fy1)      #fx=1/2,fy=1/2 will do half the image size\n",
    "cv2.waitKey(15000)\n",
    "cv2.destroyAllWindows()"
   ]
  },
  {
   "cell_type": "markdown",
   "metadata": {},
   "source": [
    "# how to create image histogram"
   ]
  },
  {
   "cell_type": "code",
   "execution_count": 24,
   "metadata": {},
   "outputs": [
    {
     "data": {
      "image/png": "[encoded data removed]",
      "text/plain": [
       "<Figure size 432x288 with 1 Axes>"
      ]
     },
     "metadata": {},
     "output_type": "display_data"
    }
   ],
   "source": [
    "np_img=np.array(cv2.cvtColor(img,cv2.COLOR_BGR2GRAY))\n",
    "plt.hist(np_img.ravel(),255,(0,255))\n",
    "plt.show()"
   ]
  },
  {
   "cell_type": "code",
   "execution_count": 29,
   "metadata": {},
   "outputs": [],
   "source": [
    "B,G,R = cv2.split(img)"
   ]
  },
  {
   "cell_type": "code",
   "execution_count": 31,
   "metadata": {},
   "outputs": [
    {
     "name": "stdout",
     "output_type": "stream",
     "text": [
      "[[162 232 255 ... 165 174 193]\n",
      " [222 255 246 ... 163 178 195]\n",
      " [255 248 192 ... 160 170 174]\n",
      " ...\n",
      " [110 110 112 ...  18  17  17]\n",
      " [102 101 100 ...  16  16  17]\n",
      " [ 92  90  87 ...  13  13  14]]\n"
     ]
    }
   ],
   "source": [
    "#now you can print the seprate 3 channels histogram for BLUE,GREEN,RED"
   ]
  },
  {
   "cell_type": "code",
   "execution_count": null,
   "metadata": {},
   "outputs": [],
   "source": []
  }
 ],
 "metadata": {
  "kernelspec": {
   "display_name": "Python 3",
   "language": "python",
   "name": "python3"
  },
  "language_info": {
   "codemirror_mode": {
    "name": "ipython",
    "version": 3
   },
   "file_extension": ".py",
   "mimetype": "text/x-python",
   "name": "python",
   "nbconvert_exporter": "python",
   "pygments_lexer": "ipython3",
   "version": "3.6.8"
  }
 },
 "nbformat": 4,
 "nbformat_minor": 2
}
