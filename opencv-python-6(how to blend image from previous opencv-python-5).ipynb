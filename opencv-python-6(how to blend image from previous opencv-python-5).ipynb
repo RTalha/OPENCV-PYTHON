{
 "cells": [
  {
   "cell_type": "code",
   "execution_count": 1,
   "metadata": {},
   "outputs": [],
   "source": [
    "import cv2\n",
    "import numpy as np"
   ]
  },
  {
   "cell_type": "code",
   "execution_count": 2,
   "metadata": {},
   "outputs": [],
   "source": [
    "img1=cv2.imread(\"road.jpg\")\n",
    "img2=cv2.imread(\"car.jpg\")"
   ]
  },
  {
   "cell_type": "code",
   "execution_count": 11,
   "metadata": {},
   "outputs": [
    {
     "name": "stdout",
     "output_type": "stream",
     "text": [
      "(349, 620, 3) / (349, 620, 3)\n"
     ]
    }
   ],
   "source": [
    "print(img1.shape,\"/\",img2.shape)"
   ]
  },
  {
   "cell_type": "code",
   "execution_count": 5,
   "metadata": {},
   "outputs": [
    {
     "data": {
      "text/plain": [
       "<function destroyAllWindows>"
      ]
     },
     "execution_count": 5,
     "metadata": {},
     "output_type": "execute_result"
    }
   ],
   "source": [
    "gray=cv2.cvtColor(img2,cv2.COLOR_BGR2GRAY)\n",
    "ret,threshol =cv2.threshold(gray,240,255,cv2.THRESH_BINARY)\n",
    "\n",
    "threshol_inv=cv2.bitwise_not(threshol)\n",
    "img4=cv2.bitwise_and(img2,img2,mask=threshol_inv)\n",
    "\n",
    "result=cv2.add(img3,img4)\n",
    "\n",
    "img3=cv2.bitwise_and(img1,img1,mask=threshol)\n",
    "cv2.imshow(\"new image is\",img3)\n",
    "cv2.imshow(\"new car image\",img4)\n",
    "cv2.imshow(\"now finaly add will work \",result)\n",
    "cv2.waitKey(15000)\n",
    "cv2.destroyAllWindows"
   ]
  },
  {
   "cell_type": "code",
   "execution_count": null,
   "metadata": {},
   "outputs": [],
   "source": []
  }
 ],
 "metadata": {
  "kernelspec": {
   "display_name": "Python 3",
   "language": "python",
   "name": "python3"
  },
  "language_info": {
   "codemirror_mode": {
    "name": "ipython",
    "version": 3
   },
   "file_extension": ".py",
   "mimetype": "text/x-python",
   "name": "python",
   "nbconvert_exporter": "python",
   "pygments_lexer": "ipython3",
   "version": "3.6.8"
  }
 },
 "nbformat": 4,
 "nbformat_minor": 2
}
