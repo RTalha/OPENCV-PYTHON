{
 "cells": [
  {
   "cell_type": "code",
   "execution_count": null,
   "metadata": {},
   "outputs": [],
   "source": [
    "import cv2\n",
    "import numpy as np\n",
    " \n",
    "cap = cv2.VideoCapture(0)\n",
    " \n",
    "while True:\n",
    "    _, frame = cap.read()\n",
    " \n",
    "    cv2.circle(frame, (155, 120), 5, (0, 0, 255), -1)\n",
    "    cv2.circle(frame, (480, 120), 5, (0, 0, 255), -1)\n",
    "    cv2.circle(frame, (20, 475), 5, (0, 0, 255), -1)\n",
    "    cv2.circle(frame, (620, 475), 5, (0, 0, 255), -1)\n",
    " \n",
    "    pts1 = np.float32([[155, 120], [480, 120], [20, 475], [620, 475]])\n",
    "    pts2 = np.float32([[0, 0], [500, 0], [0, 600], [500, 600]])\n",
    "    matrix = cv2.getPerspectiveTransform(pts1, pts2)\n",
    " \n",
    "    result = cv2.warpPerspective(frame, matrix, (500, 600))\n",
    " \n",
    " \n",
    "    cv2.imshow(\"Frame\", frame)\n",
    "    cv2.imshow(\"Perspective transformation\", result)\n",
    " \n",
    "    key = cv2.waitKey(1)\n",
    "    if key == 27:\n",
    "        break\n",
    " \n",
    "cap.release()\n",
    "cv2.destroyAllWindows()"
   ]
  }
 ],
 "metadata": {
  "kernelspec": {
   "display_name": "Python 3",
   "language": "python",
   "name": "python3"
  },
  "language_info": {
   "codemirror_mode": {
    "name": "ipython",
    "version": 3
   },
   "file_extension": ".py",
   "mimetype": "text/x-python",
   "name": "python",
   "nbconvert_exporter": "python",
   "pygments_lexer": "ipython3",
   "version": "3.6.8"
  }
 },
 "nbformat": 4,
 "nbformat_minor": 2
}
