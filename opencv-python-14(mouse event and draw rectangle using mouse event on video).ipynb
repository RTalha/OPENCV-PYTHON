{
 "cells": [
  {
   "cell_type": "code",
   "execution_count": 1,
   "metadata": {},
   "outputs": [],
   "source": [
    "import cv2"
   ]
  },
  {
   "cell_type": "code",
   "execution_count": 2,
   "metadata": {},
   "outputs": [],
   "source": [
    "cap=cv2.VideoCapture(0)\n",
    "circles=[]"
   ]
  },
  {
   "cell_type": "code",
   "execution_count": 3,
   "metadata": {},
   "outputs": [],
   "source": [
    "def mouse_drawing(event,x,y,flags,params):\n",
    "    if event==cv2.EVENT_LBUTTONDOWN:\n",
    "       circles.append((x,y))"
   ]
  },
  {
   "cell_type": "code",
   "execution_count": 4,
   "metadata": {},
   "outputs": [],
   "source": [
    "cv2.namedWindow(\"Frame\")   #if you want same window then window name put here and\n",
    "                           # window name use in imshow need to be same\n",
    "cv2.setMouseCallback(\"Frame\",mouse_drawing)"
   ]
  },
  {
   "cell_type": "code",
   "execution_count": null,
   "metadata": {},
   "outputs": [],
   "source": [
    "while True:\n",
    "    _,frame=cap.read()\n",
    "    for circles_position in circles:\n",
    "        cv2.circle(frame,circles_position,10,(0,255,0),-1)\n",
    "    cv2.imshow(\"Frame\",frame)\n",
    "    key=cv2.waitKey(1)\n",
    "    if key==\"D\":\n",
    "        break\n",
    "cap.release()\n",
    "cv2.destroyAllWindows()"
   ]
  },
  {
   "cell_type": "markdown",
   "metadata": {},
   "source": [
    "#Drawing rectangle on using mouse event in video"
   ]
  },
  {
   "cell_type": "code",
   "execution_count": null,
   "metadata": {},
   "outputs": [],
   "source": [
    "import cv2\n",
    "import numpy as np\n",
    " \n",
    "drawing = False\n",
    "point1 = ()\n",
    "point2 = ()\n",
    " \n",
    " \n",
    "def mouse_drawing(event, x, y, flags, params):\n",
    "    global point1, point2, drawing\n",
    "    if event == cv2.EVENT_LBUTTONDOWN:\n",
    "        if drawing is False:\n",
    "            drawing = True\n",
    "            point1 = (x, y)\n",
    "        else:\n",
    "            drawing = False\n",
    " \n",
    "    elif event == cv2.EVENT_MOUSEMOVE:\n",
    "        if drawing is True:\n",
    "            point2 = (x, y)\n",
    " \n",
    " \n",
    "cap = cv2.VideoCapture(0)\n",
    " \n",
    "cv2.namedWindow(\"Frame\")\n",
    "cv2.setMouseCallback(\"Frame\", mouse_drawing)\n",
    " \n",
    " \n",
    "while True:\n",
    "    _, frame = cap.read()\n",
    " \n",
    "    if point1 and point2:\n",
    "        cv2.rectangle(frame, point1, point2, (0, 255, 0))\n",
    " \n",
    "    cv2.imshow(\"Frame\", frame)\n",
    " \n",
    "    key = cv2.waitKey(1)\n",
    "    if key == 27:\n",
    "        break\n",
    " \n",
    " \n",
    "cap.release()\n",
    "cv2.destroyAllWindows()"
   ]
  }
 ],
 "metadata": {
  "kernelspec": {
   "display_name": "Python 3",
   "language": "python",
   "name": "python3"
  },
  "language_info": {
   "codemirror_mode": {
    "name": "ipython",
    "version": 3
   },
   "file_extension": ".py",
   "mimetype": "text/x-python",
   "name": "python",
   "nbconvert_exporter": "python",
   "pygments_lexer": "ipython3",
   "version": "3.6.8"
  }
 },
 "nbformat": 4,
 "nbformat_minor": 2
}
